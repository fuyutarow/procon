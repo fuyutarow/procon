{
 "cells": [
  {
   "cell_type": "code",
   "execution_count": 3,
   "metadata": {},
   "outputs": [],
   "source": [
    "\n",
    ":dep petgraph\n",
    ":dep petgraph-evcxr\n",
    ":dep plotters = { git = \"https://github.com/38/plotters\", default_features = false, features = [\"evcxr\"] }\n",
    "\n"
   ]
  },
  {
   "cell_type": "code",
   "execution_count": 4,
   "metadata": {},
   "outputs": [],
   "source": [
    "use petgraph::Graph;\n",
    "use petgraph::algo::tarjan_scc as scc;\n",
    "use petgraph_evcxr::draw_graph;\n",
    "use petgraph::dot::Dot;\n",
    "use plotters::prelude::*;\n",
    "\n"
   ]
  },
  {
   "cell_type": "code",
   "execution_count": 5,
   "metadata": {},
   "outputs": [
    {
     "ename": "Error",
     "evalue": "failed to resolve: use of undeclared type `LineSeries`",
     "output_type": "error",
     "traceback": [
      "    chart.draw_series(LineSeries::new(",
      "                      ^^^^^^^^^^ use of undeclared type `LineSeries`",
      "failed to resolve: use of undeclared type `LineSeries`"
     ]
    },
    {
     "ename": "Error",
     "evalue": "use of deprecated associated function `plotters::chart::ChartBuilder::<'a, 'b, DB>::build_ranged`: `build_ranged` has been renamed to `build_cartesian_2d` and is to be removed in the future.",
     "output_type": "error",
     "traceback": [
      "        .build_ranged(-1f32..1f32, -0.1f32..1f32)?;",
      "         ^^^^^^^^^^^^ ",
      "use of deprecated associated function `plotters::chart::ChartBuilder::<'a, 'b, DB>::build_ranged`: `build_ranged` has been renamed to `build_cartesian_2d` and is to be removed in the future."
     ]
    },
    {
     "ename": "Error",
     "evalue": "type annotations needed",
     "output_type": "error",
     "traceback": [
      "        .margin(5)",
      "         ^^^^^^ cannot infer type for type `{integer}`",
      "type annotations needed",
      "help: consider specifying the type argument in the function call\n\n::<S>"
     ]
    },
    {
     "ename": "Error",
     "evalue": "type annotations needed",
     "output_type": "error",
     "traceback": [
      "        .x_label_area_size(30)",
      "         ^^^^^^^^^^^^^^^^^ cannot infer type for type `{integer}`",
      "type annotations needed",
      "help: consider specifying the type argument in the function call\n\n::<S>"
     ]
    },
    {
     "ename": "Error",
     "evalue": "type annotations needed",
     "output_type": "error",
     "traceback": [
      "        .y_label_area_size(30)",
      "         ^^^^^^^^^^^^^^^^^ cannot infer type for type `{integer}`",
      "type annotations needed",
      "help: consider specifying the type argument in the function call\n\n::<S>"
     ]
    }
   ],
   "source": [
    "let figure = evcxr_figure((640, 480), |root| {\n",
    "    root.fill(&WHITE);\n",
    "    let mut chart = ChartBuilder::on(&root)\n",
    "        .caption(\"Not this type of graph\", (\"Arial\", 50).into_font())\n",
    "        .margin(5)\n",
    "        .x_label_area_size(30)\n",
    "        .y_label_area_size(30)\n",
    "        .build_ranged(-1f32..1f32, -0.1f32..1f32)?;\n",
    "\n",
    "    chart.configure_mesh().draw()?;\n",
    "\n",
    "    chart.draw_series(LineSeries::new(\n",
    "        (-50..=50).map(|x| x as f32 / 50.0).map(|x| (x, x * x)),\n",
    "        &RED,\n",
    "    )).unwrap()\n",
    "        .label(\"y = x^2\")\n",
    "        .legend(|(x,y)| PathElement::new(vec![(x,y), (x + 20,y)], &RED));\n",
    "\n",
    "    chart.configure_series_labels()\n",
    "        .background_style(&WHITE.mix(0.8))\n",
    "        .border_style(&BLACK)\n",
    "        .draw()?;\n",
    "    Ok(())\n",
    "});\n",
    "figure"
   ]
  },
  {
   "cell_type": "code",
   "execution_count": 6,
   "metadata": {},
   "outputs": [
    {
     "name": "stderr",
     "output_type": "stream",
     "text": [
      "thread '<unnamed>' panicked at 'Error running graphviz dot is graphviz installed?: Os { code: 2, kind: NotFound, message: \"No such file or directory\" }', /home/fuyutarow/.cargo/registry/src/github.com-1ecc6299db9ec823/petgraph-evcxr-0.2.0/src/lib.rs:33:10\n",
      "stack backtrace:\n",
      "   0: rust_begin_unwind\n",
      "             at /rustc/9d1b2106e23b1abd32fce1f17267604a5102f57a/library/std/src/panicking.rs:498:5\n",
      "   1: core::panicking::panic_fmt\n",
      "             at /rustc/9d1b2106e23b1abd32fce1f17267604a5102f57a/library/core/src/panicking.rs:116:14\n",
      "   2: core::result::unwrap_failed\n",
      "             at /rustc/9d1b2106e23b1abd32fce1f17267604a5102f57a/library/core/src/result.rs:1690:5\n",
      "   3: petgraph_evcxr::draw_graph\n",
      "   4: run_user_code_3\n",
      "   5: evcxr::runtime::Runtime::run_loop\n",
      "   6: evcxr::runtime::runtime_hook\n",
      "   7: evcxr_jupyter::main\n",
      "note: Some details are omitted, run with `RUST_BACKTRACE=full` for a verbose backtrace.\n",
      "Segmentation fault.\n",
      "   0: evcxr::runtime::Runtime::install_crash_handlers::segfault_handler\n",
      "   1: <unknown>\n",
      "   2: mi_free\n",
      "   3: alloc::alloc::dealloc\n",
      "             at /rustc/9d1b2106e23b1abd32fce1f17267604a5102f57a/library/alloc/src/alloc.rs:105:14\n",
      "      <alloc::alloc::Global as core::alloc::Allocator>::deallocate\n",
      "             at /rustc/9d1b2106e23b1abd32fce1f17267604a5102f57a/library/alloc/src/alloc.rs:242:22\n",
      "      alloc::alloc::box_free\n",
      "             at /rustc/9d1b2106e23b1abd32fce1f17267604a5102f57a/library/alloc/src/alloc.rs:340:9\n",
      "      panic_unwind::real_imp::cleanup\n",
      "             at /rustc/9d1b2106e23b1abd32fce1f17267604a5102f57a/library/panic_unwind/src/gcc.rs:83:5\n",
      "      __rust_panic_cleanup\n",
      "             at /rustc/9d1b2106e23b1abd32fce1f17267604a5102f57a/library/panic_unwind/src/lib.rs:97:19\n",
      "   4: std::panicking::try::cleanup\n",
      "             at /rustc/9d1b2106e23b1abd32fce1f17267604a5102f57a/library/std/src/panicking.rs:387:42\n",
      "   5: std::panicking::try::do_catch\n",
      "             at /rustc/9d1b2106e23b1abd32fce1f17267604a5102f57a/library/std/src/panicking.rs:431:23\n",
      "      std::panicking::try\n",
      "             at /rustc/9d1b2106e23b1abd32fce1f17267604a5102f57a/library/std/src/panicking.rs:370:19\n",
      "      std::panic::catch_unwind\n",
      "             at /rustc/9d1b2106e23b1abd32fce1f17267604a5102f57a/library/std/src/panic.rs:133:14\n",
      "      std::rt::lang_start_internal::{{closure}}\n",
      "             at /rustc/9d1b2106e23b1abd32fce1f17267604a5102f57a/library/std/src/rt.rs:128:48\n",
      "      std::panicking::try::do_call\n",
      "             at /rustc/9d1b2106e23b1abd32fce1f17267604a5102f57a/library/std/src/panicking.rs:406:40\n",
      "      std::panicking::try\n",
      "             at /rustc/9d1b2106e23b1abd32fce1f17267604a5102f57a/library/std/src/panicking.rs:370:19\n",
      "      std::panic::catch_unwind\n",
      "             at /rustc/9d1b2106e23b1abd32fce1f17267604a5102f57a/library/std/src/panic.rs:133:14\n",
      "      std::rt::lang_start_internal\n",
      "             at /rustc/9d1b2106e23b1abd32fce1f17267604a5102f57a/library/std/src/rt.rs:128:20\n",
      "   6: main\n",
      "   7: __libc_start_main\n",
      "   8: _start\n",
      "\n"
     ]
    },
    {
     "ename": "Error",
     "evalue": "Child process terminated with status: signal: 6",
     "output_type": "error",
     "traceback": [
      "Child process terminated with status: signal: 6"
     ]
    }
   ],
   "source": [
    "let mut g : Graph<&str, &str> = Graph::new();\n",
    "let a = g.add_node(\"Node (vertex): a\");\n",
    "let b = g.add_node(\"Node (vertex): b\");\n",
    "g.add_edge(a, b, \"edge from a → b\");\n",
    "draw_graph(&g);"
   ]
  },
  {
   "cell_type": "code",
   "execution_count": null,
   "metadata": {},
   "outputs": [],
   "source": []
  }
 ],
 "metadata": {
  "kernelspec": {
   "display_name": "Rust",
   "language": "rust",
   "name": "rust"
  },
  "language_info": {
   "codemirror_mode": "rust",
   "file_extension": ".rs",
   "mimetype": "text/rust",
   "name": "Rust",
   "pygment_lexer": "rust",
   "version": ""
  }
 },
 "nbformat": 4,
 "nbformat_minor": 4
}
